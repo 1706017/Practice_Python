{
 "cells": [
  {
   "cell_type": "markdown",
   "id": "213773e0",
   "metadata": {},
   "source": [
    "# Basic Arithmetic Operation "
   ]
  },
  {
   "cell_type": "code",
   "execution_count": null,
   "id": "557c239b",
   "metadata": {},
   "outputs": [],
   "source": [
    "# Few Examples of operators like +,-,*,**,%,/ etc"
   ]
  },
  {
   "cell_type": "code",
   "execution_count": 1,
   "id": "09e5a1a9",
   "metadata": {},
   "outputs": [
    {
     "data": {
      "text/plain": [
       "5"
      ]
     },
     "execution_count": 1,
     "metadata": {},
     "output_type": "execute_result"
    }
   ],
   "source": [
    "a=2\n",
    "b=3\n",
    "a+b"
   ]
  },
  {
   "cell_type": "code",
   "execution_count": 2,
   "id": "086faf5b",
   "metadata": {},
   "outputs": [
    {
     "data": {
      "text/plain": [
       "6"
      ]
     },
     "execution_count": 2,
     "metadata": {},
     "output_type": "execute_result"
    }
   ],
   "source": [
    "a*b"
   ]
  },
  {
   "cell_type": "code",
   "execution_count": 3,
   "id": "c258485d",
   "metadata": {},
   "outputs": [
    {
     "data": {
      "text/plain": [
       "8"
      ]
     },
     "execution_count": 3,
     "metadata": {},
     "output_type": "execute_result"
    }
   ],
   "source": [
    "a**b  # a raised to the power b"
   ]
  },
  {
   "cell_type": "code",
   "execution_count": 4,
   "id": "b774407b",
   "metadata": {},
   "outputs": [
    {
     "data": {
      "text/plain": [
       "1"
      ]
     },
     "execution_count": 4,
     "metadata": {},
     "output_type": "execute_result"
    }
   ],
   "source": [
    "b%a  # % for remainder division that return remainder value"
   ]
  },
  {
   "cell_type": "code",
   "execution_count": 5,
   "id": "3fdee45c",
   "metadata": {},
   "outputs": [
    {
     "data": {
      "text/plain": [
       "2"
      ]
     },
     "execution_count": 5,
     "metadata": {},
     "output_type": "execute_result"
    }
   ],
   "source": [
    "a%b"
   ]
  },
  {
   "cell_type": "markdown",
   "id": "efe4e03a",
   "metadata": {},
   "source": [
    "# Comment in Python"
   ]
  },
  {
   "cell_type": "code",
   "execution_count": 7,
   "id": "ac01dd4f",
   "metadata": {},
   "outputs": [],
   "source": [
    "# There are two types of comment in python \n",
    "# It is started with # to give comment in Python "
   ]
  },
  {
   "cell_type": "markdown",
   "id": "fdc680e2",
   "metadata": {},
   "source": [
    "# Strings in Python"
   ]
  },
  {
   "cell_type": "markdown",
   "id": "674d984c",
   "metadata": {},
   "source": [
    "Strings can be defined in Python using single or double quotes both ways"
   ]
  },
  {
   "cell_type": "code",
   "execution_count": 8,
   "id": "d308d6f5",
   "metadata": {},
   "outputs": [
    {
     "name": "stdout",
     "output_type": "stream",
     "text": [
      "Amrit Manash\n"
     ]
    }
   ],
   "source": [
    "a='Amrit Manash'  \n",
    "print(a)"
   ]
  },
  {
   "cell_type": "code",
   "execution_count": 10,
   "id": "f087048c",
   "metadata": {},
   "outputs": [
    {
     "name": "stdout",
     "output_type": "stream",
     "text": [
      "Amrit Manash is My Name\n"
     ]
    }
   ],
   "source": [
    "a=\"Amrit Manash is My Name\"\n",
    "print(a)"
   ]
  },
  {
   "cell_type": "markdown",
   "id": "8f8b82a3",
   "metadata": {},
   "source": [
    "Below is an Example of String Formatting"
   ]
  },
  {
   "cell_type": "code",
   "execution_count": 11,
   "id": "bc3cd8aa",
   "metadata": {},
   "outputs": [
    {
     "name": "stdout",
     "output_type": "stream",
     "text": [
      "My name is Amrit Manash and My Age is 24 \n"
     ]
    }
   ],
   "source": [
    "name=\"Amrit Manash\"\n",
    "age=24\n",
    "\n",
    "print(\"My name is {} and My Age is {} \".format(name,age))"
   ]
  },
  {
   "cell_type": "markdown",
   "id": "9e251ada",
   "metadata": {},
   "source": [
    "Below is an Example for String Indexing"
   ]
  },
  {
   "cell_type": "code",
   "execution_count": 12,
   "id": "ae26ba20",
   "metadata": {},
   "outputs": [
    {
     "name": "stdout",
     "output_type": "stream",
     "text": [
      "A\n"
     ]
    }
   ],
   "source": [
    "a=\"Amrit Manash is a Good Boy\"\n",
    "\n",
    "print(a[0])  #Here we are accessing 0th index of string"
   ]
  },
  {
   "cell_type": "code",
   "execution_count": 13,
   "id": "a9fc7b0a",
   "metadata": {},
   "outputs": [
    {
     "name": "stdout",
     "output_type": "stream",
     "text": [
      "Amrit\n"
     ]
    }
   ],
   "source": [
    "print(a[0:5]) # Here we are accessing 0th to 4th index of string by excluding the 5th index because last index is excluded"
   ]
  },
  {
   "cell_type": "code",
   "execution_count": 14,
   "id": "dac3a1b2",
   "metadata": {},
   "outputs": [
    {
     "name": "stdout",
     "output_type": "stream",
     "text": [
      "mrit\n"
     ]
    }
   ],
   "source": [
    "print(a[1:5])"
   ]
  },
  {
   "cell_type": "code",
   "execution_count": 15,
   "id": "c5b39b1a",
   "metadata": {},
   "outputs": [
    {
     "name": "stdout",
     "output_type": "stream",
     "text": [
      "ArtMns\n"
     ]
    }
   ],
   "source": [
    "print(a[0:12:2]) #Here we are accessing index from 0 to 11 but with a step size of one "
   ]
  },
  {
   "cell_type": "markdown",
   "id": "6aa71be2",
   "metadata": {},
   "source": [
    "# List In Python"
   ]
  },
  {
   "cell_type": "markdown",
   "id": "f08c0246",
   "metadata": {},
   "source": [
    "List can hold differnt dataTypes like string ,numbers ,floating number ,boolean etc \n",
    "\n",
    "List is also mutable in nature that means its object can be changed \n"
   ]
  },
  {
   "cell_type": "code",
   "execution_count": 16,
   "id": "2c9cd481",
   "metadata": {},
   "outputs": [
    {
     "data": {
      "text/plain": [
       "['Python',\n",
       " 'Numpy',\n",
       " 'Pandas',\n",
       " 'Matplotlib',\n",
       " 'Seaborn',\n",
       " 'Ml Algo.',\n",
       " 'Power BI',\n",
       " 'MS-Excel',\n",
       " 'Sql']"
      ]
     },
     "execution_count": 16,
     "metadata": {},
     "output_type": "execute_result"
    }
   ],
   "source": [
    "my_list=['Python','Numpy','Pandas','Matplotlib','Seaborn','Ml Algo.','Power BI','MS-Excel','Sql']\n",
    "my_list"
   ]
  },
  {
   "cell_type": "code",
   "execution_count": 17,
   "id": "f020bdba",
   "metadata": {},
   "outputs": [
    {
     "data": {
      "text/plain": [
       "['Python', 'Numpy', 'Pandas']"
      ]
     },
     "execution_count": 17,
     "metadata": {},
     "output_type": "execute_result"
    }
   ],
   "source": [
    "# we can access the element in list by using index\n",
    "\n",
    "my_list[0:3]"
   ]
  },
  {
   "cell_type": "code",
   "execution_count": 18,
   "id": "b9da7375",
   "metadata": {},
   "outputs": [
    {
     "data": {
      "text/plain": [
       "['Python',\n",
       " 'Numpy',\n",
       " 'Pandas',\n",
       " 'Matplotlib',\n",
       " 'Seaborn',\n",
       " 'R programming',\n",
       " 'Power BI',\n",
       " 'MS-Excel',\n",
       " 'Sql']"
      ]
     },
     "execution_count": 18,
     "metadata": {},
     "output_type": "execute_result"
    }
   ],
   "source": [
    "# we can replace a pervious value with a new one with index\n",
    "\n",
    "my_list[5]='R programming'\n",
    "my_list"
   ]
  },
  {
   "cell_type": "code",
   "execution_count": 19,
   "id": "536b7bbb",
   "metadata": {},
   "outputs": [
    {
     "data": {
      "text/plain": [
       "[1, 2, [3, 4, 5]]"
      ]
     },
     "execution_count": 19,
     "metadata": {},
     "output_type": "execute_result"
    }
   ],
   "source": [
    "# we can also do nesting of list that means one list in other list\n",
    "\n",
    "my_numbers=[1,2,[3,4,5]]\n",
    "my_numbers"
   ]
  },
  {
   "cell_type": "code",
   "execution_count": 20,
   "id": "76246399",
   "metadata": {},
   "outputs": [
    {
     "data": {
      "text/plain": [
       "5"
      ]
     },
     "execution_count": 20,
     "metadata": {},
     "output_type": "execute_result"
    }
   ],
   "source": [
    "my_numbers[2][2] #we can also access the nested list by using multiple brackets "
   ]
  },
  {
   "cell_type": "code",
   "execution_count": 21,
   "id": "554b862f",
   "metadata": {},
   "outputs": [
    {
     "data": {
      "text/plain": [
       "['Python',\n",
       " 'Numpy',\n",
       " 'Pandas',\n",
       " 'Matplotlib',\n",
       " 'Seaborn',\n",
       " 'R programming',\n",
       " 'Power BI',\n",
       " 'MS-Excel',\n",
       " 'Sql',\n",
       " 'Machine Learning Algo']"
      ]
     },
     "execution_count": 21,
     "metadata": {},
     "output_type": "execute_result"
    }
   ],
   "source": [
    "# Some Important functions in List\n",
    "\n",
    "#.append() to add element at the last of a list\n",
    "my_list.append('Machine Learning Algo') \n",
    "my_list"
   ]
  },
  {
   "cell_type": "code",
   "execution_count": 22,
   "id": "686fadac",
   "metadata": {},
   "outputs": [
    {
     "data": {
      "text/plain": [
       "['Python',\n",
       " 'Numpy',\n",
       " 'Pandas',\n",
       " 'Matplotlib',\n",
       " 'Seaborn',\n",
       " 'R programming',\n",
       " 'Power BI',\n",
       " 'MS-Excel',\n",
       " 'Sql']"
      ]
     },
     "execution_count": 22,
     "metadata": {},
     "output_type": "execute_result"
    }
   ],
   "source": [
    "#.pop() to delete last element from the list \n",
    "my_list.pop()\n",
    "my_list"
   ]
  },
  {
   "cell_type": "markdown",
   "id": "62ef4675",
   "metadata": {},
   "source": [
    "# Dictionaries in Python"
   ]
  },
  {
   "cell_type": "markdown",
   "id": "fe031783",
   "metadata": {},
   "source": [
    "Dictionaries stores data in key value format \n",
    "\n",
    "Dictionary do not maintain the order"
   ]
  },
  {
   "cell_type": "code",
   "execution_count": 31,
   "id": "4399f3a6",
   "metadata": {},
   "outputs": [
    {
     "data": {
      "text/plain": [
       "{'Name': 'Amrit',\n",
       " 'Age': 24,\n",
       " 'Job': 'SE',\n",
       " 'Married': 'No',\n",
       " 'Hobies': ['Cricket',\n",
       "  'Music',\n",
       "  'Watching Movies',\n",
       "  'Reading Books',\n",
       "  'Learning new skills']}"
      ]
     },
     "execution_count": 31,
     "metadata": {},
     "output_type": "execute_result"
    }
   ],
   "source": [
    " my_dic={'Name':'Amrit',\n",
    "       'Age':24,\n",
    "       'Job':'SE',\n",
    "       'Married':'No',\n",
    "       'Hobies':['Cricket','Music','Watching Movies','Reading Books','Learning new skills']}\n",
    "my_dic"
   ]
  },
  {
   "cell_type": "code",
   "execution_count": 24,
   "id": "72b840c0",
   "metadata": {},
   "outputs": [
    {
     "data": {
      "text/plain": [
       "['Cricket', 'Music', 'Watching Movies', 'Reading Books', 'Learning new skills']"
      ]
     },
     "execution_count": 24,
     "metadata": {},
     "output_type": "execute_result"
    }
   ],
   "source": [
    "#we can access the values using keys as the index for the dictionary\n",
    "\n",
    "my_dic['Hobies'] "
   ]
  },
  {
   "cell_type": "code",
   "execution_count": 30,
   "id": "13f48dd8",
   "metadata": {},
   "outputs": [
    {
     "data": {
      "text/plain": [
       "2"
      ]
     },
     "execution_count": 30,
     "metadata": {},
     "output_type": "execute_result"
    }
   ],
   "source": [
    "#we can also do nesting of dictionaries and can access by using keys as passing as index\n",
    "\n",
    "my_key={'key1':{'Key2':[1,2,3]}}\n",
    "\n",
    "my_key['key1']['Key2'][1]"
   ]
  },
  {
   "cell_type": "markdown",
   "id": "78b58db7",
   "metadata": {},
   "source": [
    "# Tupples in Python"
   ]
  },
  {
   "cell_type": "markdown",
   "id": "a74cd7f9",
   "metadata": {},
   "source": [
    "Tupple objects are immutable that means one assigned value cannot be changed"
   ]
  },
  {
   "cell_type": "code",
   "execution_count": 32,
   "id": "71199ecd",
   "metadata": {},
   "outputs": [
    {
     "data": {
      "text/plain": [
       "3"
      ]
     },
     "execution_count": 32,
     "metadata": {},
     "output_type": "execute_result"
    }
   ],
   "source": [
    "my_tup=(1,2,3,4,5,6)\n",
    "\n",
    "my_tup[2]"
   ]
  },
  {
   "cell_type": "code",
   "execution_count": 33,
   "id": "1de04e3b",
   "metadata": {},
   "outputs": [
    {
     "ename": "TypeError",
     "evalue": "'tuple' object does not support item assignment",
     "output_type": "error",
     "traceback": [
      "\u001b[1;31m---------------------------------------------------------------------------\u001b[0m",
      "\u001b[1;31mTypeError\u001b[0m                                 Traceback (most recent call last)",
      "Input \u001b[1;32mIn [33]\u001b[0m, in \u001b[0;36m<cell line: 3>\u001b[1;34m()\u001b[0m\n\u001b[0;32m      1\u001b[0m \u001b[38;5;66;03m# if we want to replace one value with other using indexing it is not possible with tupple\u001b[39;00m\n\u001b[1;32m----> 3\u001b[0m my_tup[\u001b[38;5;241m2\u001b[39m]\u001b[38;5;241m=\u001b[39m\u001b[38;5;241m9\u001b[39m\n\u001b[0;32m      4\u001b[0m my_tup\n",
      "\u001b[1;31mTypeError\u001b[0m: 'tuple' object does not support item assignment"
     ]
    }
   ],
   "source": [
    "# if we want to replace one value with other using indexing it is not possible with tupple\n",
    "# Due to this tupple objects are immutable\n",
    "my_tup[2]=9\n",
    "my_tup"
   ]
  },
  {
   "cell_type": "markdown",
   "id": "2d326dff",
   "metadata": {},
   "source": [
    "# Sets in Python"
   ]
  },
  {
   "cell_type": "markdown",
   "id": "0e21759b",
   "metadata": {},
   "source": [
    "It can store only unique data that means it cannot hold duplicate data in it"
   ]
  },
  {
   "cell_type": "code",
   "execution_count": 34,
   "id": "f6ce7a6e",
   "metadata": {},
   "outputs": [
    {
     "data": {
      "text/plain": [
       "{12, 25, 56, 89, 90}"
      ]
     },
     "execution_count": 34,
     "metadata": {},
     "output_type": "execute_result"
    }
   ],
   "source": [
    "roll_numbers={12,25,56,89,90}\n",
    "roll_numbers"
   ]
  },
  {
   "cell_type": "code",
   "execution_count": 35,
   "id": "b3dcd3d6",
   "metadata": {},
   "outputs": [
    {
     "data": {
      "text/plain": [
       "{12, 24, 35}"
      ]
     },
     "execution_count": 35,
     "metadata": {},
     "output_type": "execute_result"
    }
   ],
   "source": [
    "#Here you can see in output that it has just printed the unique values from sets\n",
    "\n",
    "updated_roll_numbers={12,24,35,12} \n",
    "updated_roll_numbers"
   ]
  },
  {
   "cell_type": "markdown",
   "id": "c816699c",
   "metadata": {},
   "source": [
    "# Conditional Statement in Python"
   ]
  },
  {
   "cell_type": "code",
   "execution_count": 41,
   "id": "803d25cd",
   "metadata": {},
   "outputs": [
    {
     "name": "stdout",
     "output_type": "stream",
     "text": [
      "The number is odd Number\n"
     ]
    }
   ],
   "source": [
    "#Here below we are doing program to find if a number is odd number or even number\n",
    "\n",
    "a=77\n",
    "\n",
    "if a%2==0:\n",
    "    print(\"The Number is even Number\")\n",
    "else :\n",
    "    print(\"The number is odd Number\")\n"
   ]
  },
  {
   "cell_type": "code",
   "execution_count": 48,
   "id": "d30d24be",
   "metadata": {},
   "outputs": [
    {
     "name": "stdout",
     "output_type": "stream",
     "text": [
      "You are failed, please work Hard to pass Next Time\n"
     ]
    }
   ],
   "source": [
    "#Here below we are going to print the grades of a student on the basic of marks he got \n",
    "\n",
    "marks=56\n",
    "\n",
    "if(marks>=90 and marks<=100):\n",
    "    print(\"Got A Grade\")\n",
    "elif(marks>=80 and marks<90):\n",
    "    print(\"Got B Grade\")\n",
    "elif(marks>=70 and marks<80):\n",
    "    print(\"Got C Grade\")\n",
    "elif(marks>=60 and marks<70):\n",
    "    print(\"Got D Grade\")\n",
    "else:\n",
    "    print(\"You are failed, please work Hard to pass Next Time\")\n"
   ]
  },
  {
   "cell_type": "markdown",
   "id": "fe0392ce",
   "metadata": {},
   "source": [
    "# Looping Statement in Python"
   ]
  },
  {
   "cell_type": "code",
   "execution_count": 49,
   "id": "9c967c0a",
   "metadata": {},
   "outputs": [
    {
     "name": "stdout",
     "output_type": "stream",
     "text": [
      "2\n",
      "4\n",
      "6\n",
      "8\n",
      "10\n",
      "12\n",
      "14\n",
      "16\n",
      "18\n",
      "20\n",
      "22\n",
      "24\n",
      "26\n",
      "28\n",
      "30\n",
      "32\n",
      "34\n",
      "36\n",
      "38\n",
      "40\n",
      "42\n",
      "44\n",
      "46\n",
      "48\n",
      "50\n",
      "52\n",
      "54\n",
      "56\n",
      "58\n",
      "60\n",
      "62\n",
      "64\n",
      "66\n",
      "68\n",
      "70\n",
      "72\n",
      "74\n",
      "76\n",
      "78\n",
      "80\n",
      "82\n",
      "84\n",
      "86\n",
      "88\n",
      "90\n",
      "92\n",
      "94\n",
      "96\n",
      "98\n",
      "100\n"
     ]
    }
   ],
   "source": [
    "# Here we are printing all the even Numbers from 1 to 100 using for() loop and using range() function\n",
    "# range() is used to create numbers in between the range that is mentioned in it \n",
    "for i in range(1,101):\n",
    "    if i%2==0:\n",
    "        print(i)\n",
    "    else:\n",
    "        continue\n"
   ]
  },
  {
   "cell_type": "code",
   "execution_count": 51,
   "id": "20dfd2ef",
   "metadata": {},
   "outputs": [
    {
     "name": "stdout",
     "output_type": "stream",
     "text": [
      "1\n",
      "2\n",
      "3\n",
      "4\n",
      "5\n",
      "6\n",
      "7\n",
      "8\n",
      "9\n",
      "10\n",
      "11\n",
      "12\n",
      "13\n",
      "14\n",
      "15\n",
      "16\n",
      "17\n",
      "18\n",
      "19\n",
      "20\n"
     ]
    }
   ],
   "source": [
    "#Here below is an example of while loop to print numbers from 1 to 20\n",
    "#Please keep in mind that in python i++ is not valid it will give you error rather use i=i+1\n",
    "\n",
    "i=1\n",
    "while(i<21):\n",
    "    print(i)\n",
    "    i=i+1\n"
   ]
  },
  {
   "cell_type": "markdown",
   "id": "68556bbd",
   "metadata": {},
   "source": [
    "# Functions in Python"
   ]
  },
  {
   "cell_type": "markdown",
   "id": "a8a61e06",
   "metadata": {},
   "source": [
    "Example 1) To create a function that prints whether length of string is even or odd that is passed in the function\n"
   ]
  },
  {
   "cell_type": "code",
   "execution_count": 55,
   "id": "b0b29bea",
   "metadata": {},
   "outputs": [
    {
     "name": "stdout",
     "output_type": "stream",
     "text": [
      "The length of string is odd\n"
     ]
    }
   ],
   "source": [
    "stmt=\"Amrit Manash\"\n",
    "\n",
    "#Here we are providing defination for our function\n",
    "def str_eval(stmt):\n",
    "    count=len(stmt)\n",
    "    if count%2==0:\n",
    "        print(\"The length of string is even\")\n",
    "    else:\n",
    "        print(\"The length of string is odd\")\n",
    "\n",
    "str_eval(stmt) #Here we are calling our function"
   ]
  },
  {
   "cell_type": "markdown",
   "id": "42dfd091",
   "metadata": {},
   "source": [
    "Example 2) Here we are creating a function that is returning a result after doing the operation inside"
   ]
  },
  {
   "cell_type": "code",
   "execution_count": 62,
   "id": "c31a33f7",
   "metadata": {},
   "outputs": [
    {
     "data": {
      "text/plain": [
       "6"
      ]
     },
     "execution_count": 62,
     "metadata": {},
     "output_type": "execute_result"
    }
   ],
   "source": [
    "input1=2\n",
    "input2=3\n",
    "\n",
    "\n",
    "def cal_input(input1,input2,op):\n",
    "    if op==1:\n",
    "        return input1+input2\n",
    "    elif op==2:\n",
    "        return input1*input2\n",
    "    else:\n",
    "        return 0\n",
    "\n",
    "    \n",
    "cal_input(input1,input2,2)\n",
    "    "
   ]
  },
  {
   "cell_type": "markdown",
   "id": "a3de1c00",
   "metadata": {},
   "source": [
    "# map() function in Python"
   ]
  },
  {
   "cell_type": "markdown",
   "id": "22d63c7f",
   "metadata": {},
   "source": [
    "map() function is usefull when we want to do braodcasting of certain function to a list of elements that means applying function\n",
    "to multiple values "
   ]
  },
  {
   "cell_type": "code",
   "execution_count": 64,
   "id": "2d53a9e5",
   "metadata": {},
   "outputs": [
    {
     "data": {
      "text/plain": [
       "[2, 4, 6, 8, 10, 12, 14, 16, 18]"
      ]
     },
     "execution_count": 64,
     "metadata": {},
     "output_type": "execute_result"
    }
   ],
   "source": [
    "# Suppose here we have a list of element in a list and we want a list in which all elements are twice the current value\n",
    "# So Here we can use map() \n",
    "\n",
    "my_list=[1,2,3,4,5,6,7,8,9]\n",
    "\n",
    "def do_twice(input_list):\n",
    "    return input_list*2\n",
    "\n",
    "#Here in the first arg we have passed the function and in the second argument we have passed the list effected \n",
    "my_new_list=list(map(do_twice,my_list))  \n",
    "\n",
    "my_new_list"
   ]
  },
  {
   "cell_type": "code",
   "execution_count": 65,
   "id": "f3dfb626",
   "metadata": {},
   "outputs": [
    {
     "data": {
      "text/plain": [
       "[4, 8, 12, 16, 20, 24, 28, 32, 36]"
      ]
     },
     "execution_count": 65,
     "metadata": {},
     "output_type": "execute_result"
    }
   ],
   "source": [
    "#In map() function we can also pass a lamda function instead of passing a complete function \n",
    "#Lambda() function is also called a anonymous function\n",
    "\n",
    "my_new_list=list(map(lambda var:var*4,my_list))\n",
    "my_new_list"
   ]
  },
  {
   "cell_type": "markdown",
   "id": "07609ea0",
   "metadata": {},
   "source": [
    "# filter() function in Python:"
   ]
  },
  {
   "cell_type": "markdown",
   "id": "ac911a5b",
   "metadata": {},
   "source": [
    "filter() function is very similar to map() function but the basic differnce is that in filter function before applying broadcasting to all element we create a filter based on certain condtion"
   ]
  },
  {
   "cell_type": "code",
   "execution_count": 70,
   "id": "edc646ec",
   "metadata": {},
   "outputs": [
    {
     "data": {
      "text/plain": [
       "[2, 4, 6, 8, 10, 12, 14, 16]"
      ]
     },
     "execution_count": 70,
     "metadata": {},
     "output_type": "execute_result"
    }
   ],
   "source": [
    "my_list=[1,2,3,4,5,6,7,8,9,10,12,13,14,15,16]\n",
    "\n",
    "my_even_list=list(filter(lambda var:var%2==0,my_list))\n",
    "my_even_list"
   ]
  },
  {
   "cell_type": "markdown",
   "id": "84c34f73",
   "metadata": {},
   "source": [
    "# split() function of Strings"
   ]
  },
  {
   "cell_type": "code",
   "execution_count": 72,
   "id": "f1a377ad",
   "metadata": {},
   "outputs": [
    {
     "data": {
      "text/plain": [
       "['amritmanash', 'gmail.com']"
      ]
     },
     "execution_count": 72,
     "metadata": {},
     "output_type": "execute_result"
    }
   ],
   "source": [
    "#split() function basically creates a list of string by dividing with the argument that is passed into split()\n",
    "\n",
    "email=\"amritmanash@gmail.com\"\n",
    "\n",
    "my_list=email.split(\"@\")\n",
    "\n",
    "my_list"
   ]
  },
  {
   "cell_type": "markdown",
   "id": "0975d4cf",
   "metadata": {},
   "source": [
    "# in operator of Python:"
   ]
  },
  {
   "cell_type": "code",
   "execution_count": 76,
   "id": "420b6f67",
   "metadata": {},
   "outputs": [
    {
     "name": "stdout",
     "output_type": "stream",
     "text": [
      "Friend\n"
     ]
    }
   ],
   "source": [
    "my_list=[\"Amrit\",\"Manash\",\"Aman\",\"Nasim\",\"Ayush\",\"Akash\",\"Anand\",\"Manish\",\"Satyam\"]\n",
    "\n",
    "name=\"Aman\"\n",
    "if name in my_list:\n",
    "    print(\"Friend\")\n",
    "else:\n",
    "    print(\"Not Friend\")\n"
   ]
  },
  {
   "cell_type": "code",
   "execution_count": null,
   "id": "1fe30c74",
   "metadata": {},
   "outputs": [],
   "source": []
  }
 ],
 "metadata": {
  "kernelspec": {
   "display_name": "Python 3 (ipykernel)",
   "language": "python",
   "name": "python3"
  },
  "language_info": {
   "codemirror_mode": {
    "name": "ipython",
    "version": 3
   },
   "file_extension": ".py",
   "mimetype": "text/x-python",
   "name": "python",
   "nbconvert_exporter": "python",
   "pygments_lexer": "ipython3",
   "version": "3.9.12"
  }
 },
 "nbformat": 4,
 "nbformat_minor": 5
}
