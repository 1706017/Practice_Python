{
 "cells": [
  {
   "cell_type": "markdown",
   "id": "c82f3de1",
   "metadata": {},
   "source": [
    "Numpy is apython Library for creating vectors and 2D Matrices "
   ]
  },
  {
   "cell_type": "code",
   "execution_count": 1,
   "id": "bb591d21",
   "metadata": {},
   "outputs": [],
   "source": [
    "import numpy as np"
   ]
  },
  {
   "cell_type": "code",
   "execution_count": 2,
   "id": "5aa7edd4",
   "metadata": {},
   "outputs": [
    {
     "data": {
      "text/plain": [
       "array([1, 2, 3, 4, 5, 6, 7, 8, 9])"
      ]
     },
     "execution_count": 2,
     "metadata": {},
     "output_type": "execute_result"
    }
   ],
   "source": [
    "#creating Numpy arrays by passing list \n",
    "\n",
    "\n",
    "my_list=[1,2,3,4,5,6,7,8,9]\n",
    "\n",
    "my_arr=np.array(my_list)\n",
    "\n",
    "my_arr"
   ]
  },
  {
   "cell_type": "code",
   "execution_count": 7,
   "id": "19a02540",
   "metadata": {},
   "outputs": [
    {
     "data": {
      "text/plain": [
       "array([1, 2, 3, 4, 5, 6, 7, 8, 9])"
      ]
     },
     "execution_count": 7,
     "metadata": {},
     "output_type": "execute_result"
    }
   ],
   "source": [
    "my_list_2d=[[1,2,3],[4,5,6]]\n",
    "\n",
    "my_2d_arr=np.array(my_list)\n",
    "\n",
    "my_2d_arr"
   ]
  },
  {
   "cell_type": "code",
   "execution_count": 8,
   "id": "15e6699c",
   "metadata": {},
   "outputs": [
    {
     "data": {
      "text/plain": [
       "array([[1, 2, 3],\n",
       "       [4, 5, 6],\n",
       "       [7, 8, 9]])"
      ]
     },
     "execution_count": 8,
     "metadata": {},
     "output_type": "execute_result"
    }
   ],
   "source": [
    "#Here we have created a 2d Matrix\n",
    "\n",
    "my_mat=[[1,2,3],[4,5,6],[7,8,9]]\n",
    "\n",
    "arr=np.array(my_mat)\n",
    "arr"
   ]
  },
  {
   "cell_type": "markdown",
   "id": "ec7b2437",
   "metadata": {},
   "source": [
    "# np.arange() and use of reshape() in Numpy to create a 2d Matrix:"
   ]
  },
  {
   "cell_type": "code",
   "execution_count": 9,
   "id": "c330e478",
   "metadata": {},
   "outputs": [
    {
     "data": {
      "text/plain": [
       "array([ 1,  2,  3,  4,  5,  6,  7,  8,  9, 10, 11, 12, 13, 14, 15, 16, 17,\n",
       "       18, 19, 20])"
      ]
     },
     "execution_count": 9,
     "metadata": {},
     "output_type": "execute_result"
    }
   ],
   "source": [
    "#arange() method in numpy creates number in between range as passed in argument\n",
    "my_arr=np.arange(1,21)\n",
    "my_arr"
   ]
  },
  {
   "cell_type": "code",
   "execution_count": 10,
   "id": "10825d30",
   "metadata": {},
   "outputs": [
    {
     "data": {
      "text/plain": [
       "array([ 1,  3,  5,  7,  9, 11, 13, 15, 17, 19])"
      ]
     },
     "execution_count": 10,
     "metadata": {},
     "output_type": "execute_result"
    }
   ],
   "source": [
    "#Here third argument is for step size \n",
    "my_arr=np.arange(1,21,2)\n",
    "my_arr"
   ]
  },
  {
   "cell_type": "code",
   "execution_count": 12,
   "id": "173f7f08",
   "metadata": {},
   "outputs": [
    {
     "data": {
      "text/plain": [
       "array([[ 1,  2,  3,  4,  5],\n",
       "       [ 6,  7,  8,  9, 10],\n",
       "       [11, 12, 13, 14, 15],\n",
       "       [16, 17, 18, 19, 20],\n",
       "       [21, 22, 23, 24, 25]])"
      ]
     },
     "execution_count": 12,
     "metadata": {},
     "output_type": "execute_result"
    }
   ],
   "source": [
    "my_mat=np.arange(1,26).reshape(5,5)\n",
    "my_mat"
   ]
  },
  {
   "cell_type": "markdown",
   "id": "05e6bc03",
   "metadata": {},
   "source": [
    "# np.zeros() method to generate arrays and matrix containing zeros"
   ]
  },
  {
   "cell_type": "code",
   "execution_count": 13,
   "id": "cfdbeb2b",
   "metadata": {},
   "outputs": [
    {
     "data": {
      "text/plain": [
       "array([0., 0., 0., 0., 0., 0., 0., 0., 0., 0., 0., 0., 0., 0., 0., 0., 0.,\n",
       "       0., 0., 0., 0., 0., 0., 0., 0.])"
      ]
     },
     "execution_count": 13,
     "metadata": {},
     "output_type": "execute_result"
    }
   ],
   "source": [
    "arr=np.zeros(25)\n",
    "arr"
   ]
  },
  {
   "cell_type": "code",
   "execution_count": 15,
   "id": "55bb4a31",
   "metadata": {},
   "outputs": [
    {
     "data": {
      "text/plain": [
       "array([[0., 0., 0., 0., 0.],\n",
       "       [0., 0., 0., 0., 0.],\n",
       "       [0., 0., 0., 0., 0.],\n",
       "       [0., 0., 0., 0., 0.],\n",
       "       [0., 0., 0., 0., 0.]])"
      ]
     },
     "execution_count": 15,
     "metadata": {},
     "output_type": "execute_result"
    }
   ],
   "source": [
    "arr=np.zeros(25).reshape(5,5) #first argument for rows and second argument for columns\n",
    "arr"
   ]
  },
  {
   "cell_type": "markdown",
   "id": "e8ee99fc",
   "metadata": {},
   "source": [
    "# np.ones( ) to genrate array containing ones:"
   ]
  },
  {
   "cell_type": "code",
   "execution_count": 17,
   "id": "1779be95",
   "metadata": {},
   "outputs": [
    {
     "data": {
      "text/plain": [
       "array([1., 1., 1., 1., 1., 1., 1., 1., 1., 1., 1., 1., 1., 1., 1., 1., 1.,\n",
       "       1., 1., 1., 1., 1., 1., 1.])"
      ]
     },
     "execution_count": 17,
     "metadata": {},
     "output_type": "execute_result"
    }
   ],
   "source": [
    "arr=np.ones(24)\n",
    "arr"
   ]
  },
  {
   "cell_type": "code",
   "execution_count": 18,
   "id": "0cf1195b",
   "metadata": {},
   "outputs": [
    {
     "data": {
      "text/plain": [
       "array([[1., 1., 1., 1., 1., 1., 1., 1.],\n",
       "       [1., 1., 1., 1., 1., 1., 1., 1.],\n",
       "       [1., 1., 1., 1., 1., 1., 1., 1.]])"
      ]
     },
     "execution_count": 18,
     "metadata": {},
     "output_type": "execute_result"
    }
   ],
   "source": [
    "arr=np.ones(24).reshape(3,8)\n",
    "arr"
   ]
  },
  {
   "cell_type": "markdown",
   "id": "d1f2e6d6",
   "metadata": {},
   "source": [
    "# Generating Identity matrix using np.eye() in Numpy:"
   ]
  },
  {
   "cell_type": "code",
   "execution_count": 20,
   "id": "09de965b",
   "metadata": {},
   "outputs": [
    {
     "data": {
      "text/plain": [
       "array([[1., 0., 0., 0., 0.],\n",
       "       [0., 1., 0., 0., 0.],\n",
       "       [0., 0., 1., 0., 0.],\n",
       "       [0., 0., 0., 1., 0.],\n",
       "       [0., 0., 0., 0., 1.]])"
      ]
     },
     "execution_count": 20,
     "metadata": {},
     "output_type": "execute_result"
    }
   ],
   "source": [
    "#Here just one argument is passed which will be number of rows and also the same number of columns\n",
    "arr=np.eye(5)\n",
    "arr"
   ]
  },
  {
   "cell_type": "markdown",
   "id": "12a48cf5",
   "metadata": {},
   "source": [
    "# Generating evenly spaced numbers in between range using np.linspace():"
   ]
  },
  {
   "cell_type": "code",
   "execution_count": 22,
   "id": "1a97fd67",
   "metadata": {},
   "outputs": [
    {
     "data": {
      "text/plain": [
       "array([ 1.        ,  1.65517241,  2.31034483,  2.96551724,  3.62068966,\n",
       "        4.27586207,  4.93103448,  5.5862069 ,  6.24137931,  6.89655172,\n",
       "        7.55172414,  8.20689655,  8.86206897,  9.51724138, 10.17241379,\n",
       "       10.82758621, 11.48275862, 12.13793103, 12.79310345, 13.44827586,\n",
       "       14.10344828, 14.75862069, 15.4137931 , 16.06896552, 16.72413793,\n",
       "       17.37931034, 18.03448276, 18.68965517, 19.34482759, 20.        ])"
      ]
     },
     "execution_count": 22,
     "metadata": {},
     "output_type": "execute_result"
    }
   ],
   "source": [
    "#Here it will genrate an 10 array elements between 1 and 20 that are evenly spaced\n",
    "arr=np.linspace(1,20,30)\n",
    "arr"
   ]
  },
  {
   "cell_type": "markdown",
   "id": "66a291d9",
   "metadata": {},
   "source": [
    "# To generate Random Numbers in array:"
   ]
  },
  {
   "cell_type": "code",
   "execution_count": 23,
   "id": "2d0afb5e",
   "metadata": {},
   "outputs": [
    {
     "data": {
      "text/plain": [
       "array([0.02553532, 0.57300521, 0.95320044, 0.8531125 , 0.80281564])"
      ]
     },
     "execution_count": 23,
     "metadata": {},
     "output_type": "execute_result"
    }
   ],
   "source": [
    "#It will generate 5 random numbers between 0 and 1\n",
    "arr=np.random.rand(5)\n",
    "arr"
   ]
  },
  {
   "cell_type": "code",
   "execution_count": 24,
   "id": "b7fce4fb",
   "metadata": {},
   "outputs": [
    {
     "data": {
      "text/plain": [
       "array([[0.76842337, 0.63553133, 0.83805203],\n",
       "       [0.79619869, 0.39069256, 0.34525449],\n",
       "       [0.11799317, 0.6296607 , 0.05154435]])"
      ]
     },
     "execution_count": 24,
     "metadata": {},
     "output_type": "execute_result"
    }
   ],
   "source": [
    "#It will generate matrix of dimension 3 x 3 containing random numbers between 0 and 1\n",
    "arr=np.random.rand(3,3)\n",
    "arr"
   ]
  },
  {
   "cell_type": "code",
   "execution_count": 28,
   "id": "185a2f17",
   "metadata": {},
   "outputs": [
    {
     "data": {
      "text/plain": [
       "array([150, 150, 103,  17, 103, 133, 101,  49,  66, 172,  29,  15, 118,\n",
       "       186, 174, 128, 131, 168, 131, 177])"
      ]
     },
     "execution_count": 28,
     "metadata": {},
     "output_type": "execute_result"
    }
   ],
   "source": [
    "#It will generate random 20 Numbers between 1 and 200 \n",
    "arr=np.random.randint(1,200,20)\n",
    "arr"
   ]
  },
  {
   "cell_type": "markdown",
   "id": "b0896d73",
   "metadata": {},
   "source": [
    "# Indexing of Numpy arrays:"
   ]
  },
  {
   "cell_type": "code",
   "execution_count": 29,
   "id": "573b210f",
   "metadata": {},
   "outputs": [
    {
     "data": {
      "text/plain": [
       "array([ 1,  2,  3,  4,  5,  6,  7,  8,  9, 10, 11, 12, 13, 14, 15, 16, 17,\n",
       "       18, 19])"
      ]
     },
     "execution_count": 29,
     "metadata": {},
     "output_type": "execute_result"
    }
   ],
   "source": [
    "myarr=np.arange(1,20)\n",
    "myarr"
   ]
  },
  {
   "cell_type": "code",
   "execution_count": 31,
   "id": "2e0670bb",
   "metadata": {},
   "outputs": [
    {
     "name": "stdout",
     "output_type": "stream",
     "text": [
      "[1 2 3 4]\n"
     ]
    }
   ],
   "source": [
    "myarr=np.arange(1,20)\n",
    "print(myarr[0:4])"
   ]
  },
  {
   "cell_type": "code",
   "execution_count": 33,
   "id": "f194a98e",
   "metadata": {},
   "outputs": [
    {
     "name": "stdout",
     "output_type": "stream",
     "text": [
      "[3 4 5]\n"
     ]
    }
   ],
   "source": [
    "myarr=np.arange(1,20)\n",
    "print(myarr[2:5])"
   ]
  },
  {
   "cell_type": "markdown",
   "id": "c0d8e7fe",
   "metadata": {},
   "source": [
    "# Grabbing elements from a 2d Matrix:"
   ]
  },
  {
   "cell_type": "code",
   "execution_count": 34,
   "id": "a843474c",
   "metadata": {},
   "outputs": [
    {
     "data": {
      "text/plain": [
       "array([[ 1,  2,  3,  4,  5,  6,  7,  8],\n",
       "       [ 9, 10, 11, 12, 13, 14, 15, 16],\n",
       "       [17, 18, 19, 20, 21, 22, 23, 24],\n",
       "       [25, 26, 27, 28, 29, 30, 31, 32],\n",
       "       [33, 34, 35, 36, 37, 38, 39, 40]])"
      ]
     },
     "execution_count": 34,
     "metadata": {},
     "output_type": "execute_result"
    }
   ],
   "source": [
    "my_mat=np.arange(1,41).reshape(5,8)\n",
    "my_mat"
   ]
  },
  {
   "cell_type": "code",
   "execution_count": 36,
   "id": "696348b0",
   "metadata": {},
   "outputs": [
    {
     "name": "stdout",
     "output_type": "stream",
     "text": [
      "[11 12 13]\n"
     ]
    }
   ],
   "source": [
    "#Let us grab 11,12,13\n",
    "print(my_mat[1][2:5])"
   ]
  },
  {
   "cell_type": "code",
   "execution_count": 44,
   "id": "82fdc113",
   "metadata": {},
   "outputs": [
    {
     "name": "stdout",
     "output_type": "stream",
     "text": [
      "[[21 22]\n",
      " [29 30]]\n"
     ]
    }
   ],
   "source": [
    "#Let us grab 21,22\n",
    "#            29,30\n",
    "my_mat=np.arange(1,41).reshape(5,8)\n",
    "print(my_mat[2:4,4:6])"
   ]
  },
  {
   "cell_type": "markdown",
   "id": "5fd0b5a8",
   "metadata": {},
   "source": [
    "# Conditional selection in Numpy array/matrix:"
   ]
  },
  {
   "cell_type": "code",
   "execution_count": 42,
   "id": "6ca02bef",
   "metadata": {},
   "outputs": [
    {
     "data": {
      "text/plain": [
       "array([[  1,   2,   3,   4,   5,   6,   7,   8,   9,  10,  11,  12,  13,\n",
       "         14,  15,  16,  17,  18,  19,  20,  21,  22,  23,  24,  25],\n",
       "       [ 26,  27,  28,  29,  30,  31,  32,  33,  34,  35,  36,  37,  38,\n",
       "         39,  40,  41,  42,  43,  44,  45,  46,  47,  48,  49,  50],\n",
       "       [ 51,  52,  53,  54,  55,  56,  57,  58,  59,  60,  61,  62,  63,\n",
       "         64,  65,  66,  67,  68,  69,  70,  71,  72,  73,  74,  75],\n",
       "       [ 76,  77,  78,  79,  80,  81,  82,  83,  84,  85,  86,  87,  88,\n",
       "         89,  90,  91,  92,  93,  94,  95,  96,  97,  98,  99, 100]])"
      ]
     },
     "execution_count": 42,
     "metadata": {},
     "output_type": "execute_result"
    }
   ],
   "source": [
    "my_mat=np.arange(1,101).reshape(4,25)\n",
    "my_mat"
   ]
  },
  {
   "cell_type": "code",
   "execution_count": 43,
   "id": "10bf7eaf",
   "metadata": {},
   "outputs": [
    {
     "data": {
      "text/plain": [
       "array([  2,   4,   6,   8,  10,  12,  14,  16,  18,  20,  22,  24,  26,\n",
       "        28,  30,  32,  34,  36,  38,  40,  42,  44,  46,  48,  50,  52,\n",
       "        54,  56,  58,  60,  62,  64,  66,  68,  70,  72,  74,  76,  78,\n",
       "        80,  82,  84,  86,  88,  90,  92,  94,  96,  98, 100])"
      ]
     },
     "execution_count": 43,
     "metadata": {},
     "output_type": "execute_result"
    }
   ],
   "source": [
    "#Here we need to fetch only those elements that are even \n",
    "my_new_mat=my_mat[my_mat%2==0]\n",
    "my_new_mat"
   ]
  },
  {
   "cell_type": "markdown",
   "id": "c736ed68",
   "metadata": {},
   "source": [
    "# Numpy operations:"
   ]
  },
  {
   "cell_type": "markdown",
   "id": "8294a101",
   "metadata": {},
   "source": [
    "There are basically three types of Numpy operation like:\n",
    "1)Array with Array\n",
    "2)Array with scalers\n",
    "3)Universal Array Function"
   ]
  },
  {
   "cell_type": "code",
   "execution_count": 46,
   "id": "289ec21a",
   "metadata": {},
   "outputs": [
    {
     "data": {
      "text/plain": [
       "array([ 6,  8, 10, 12])"
      ]
     },
     "execution_count": 46,
     "metadata": {},
     "output_type": "execute_result"
    }
   ],
   "source": [
    "#Here we are going to do Array with Array Operation \n",
    "arr1=np.array([1,2,3,4])\n",
    "arr2=np.array([5,6,7,8])\n",
    "arr3=arr1+arr2\n",
    "arr3"
   ]
  },
  {
   "cell_type": "code",
   "execution_count": 47,
   "id": "fccb7ded",
   "metadata": {},
   "outputs": [
    {
     "data": {
      "text/plain": [
       "array([2, 4, 6, 8])"
      ]
     },
     "execution_count": 47,
     "metadata": {},
     "output_type": "execute_result"
    }
   ],
   "source": [
    "#Here we are going to do array with sacler operation\n",
    "arr3=arr1*2\n",
    "arr3"
   ]
  },
  {
   "cell_type": "code",
   "execution_count": 56,
   "id": "3192421f",
   "metadata": {},
   "outputs": [
    {
     "data": {
      "text/plain": [
       "1"
      ]
     },
     "execution_count": 56,
     "metadata": {},
     "output_type": "execute_result"
    }
   ],
   "source": [
    "#Here we are goin to use some Universal Array Function\n",
    "np.min(arr1)"
   ]
  },
  {
   "cell_type": "code",
   "execution_count": 55,
   "id": "9b1e1fce",
   "metadata": {},
   "outputs": [
    {
     "data": {
      "text/plain": [
       "2.5"
      ]
     },
     "execution_count": 55,
     "metadata": {},
     "output_type": "execute_result"
    }
   ],
   "source": [
    "np.mean(arr1)"
   ]
  },
  {
   "cell_type": "code",
   "execution_count": 54,
   "id": "2cc65aa5",
   "metadata": {},
   "outputs": [
    {
     "data": {
      "text/plain": [
       "4"
      ]
     },
     "execution_count": 54,
     "metadata": {},
     "output_type": "execute_result"
    }
   ],
   "source": [
    "np.max(arr1)"
   ]
  },
  {
   "cell_type": "code",
   "execution_count": 53,
   "id": "804f4637",
   "metadata": {},
   "outputs": [
    {
     "data": {
      "text/plain": [
       "array([1.        , 1.41421356, 1.73205081, 2.        ])"
      ]
     },
     "execution_count": 53,
     "metadata": {},
     "output_type": "execute_result"
    }
   ],
   "source": [
    "np.sqrt(arr1)"
   ]
  },
  {
   "cell_type": "code",
   "execution_count": 57,
   "id": "f51ab84b",
   "metadata": {},
   "outputs": [
    {
     "data": {
      "text/plain": [
       "10"
      ]
     },
     "execution_count": 57,
     "metadata": {},
     "output_type": "execute_result"
    }
   ],
   "source": [
    "np.sum(arr1)"
   ]
  },
  {
   "cell_type": "code",
   "execution_count": null,
   "id": "0825b108",
   "metadata": {},
   "outputs": [],
   "source": []
  }
 ],
 "metadata": {
  "kernelspec": {
   "display_name": "Python 3 (ipykernel)",
   "language": "python",
   "name": "python3"
  },
  "language_info": {
   "codemirror_mode": {
    "name": "ipython",
    "version": 3
   },
   "file_extension": ".py",
   "mimetype": "text/x-python",
   "name": "python",
   "nbconvert_exporter": "python",
   "pygments_lexer": "ipython3",
   "version": "3.9.12"
  }
 },
 "nbformat": 4,
 "nbformat_minor": 5
}
